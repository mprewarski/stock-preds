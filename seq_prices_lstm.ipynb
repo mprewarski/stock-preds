{
 "cells": [
  {
   "cell_type": "code",
   "execution_count": 1,
   "id": "e0dcd69e-6bcd-4417-8daf-e5ae3995cad0",
   "metadata": {},
   "outputs": [],
   "source": [
    "import pandas as pd\n",
    "import torch\n",
    "\n",
    "import matplotlib.dates as mdates\n",
    "import matplotlib.pyplot as plt\n",
    "import datetime as dt"
   ]
  },
  {
   "cell_type": "code",
   "execution_count": 2,
   "id": "ede4d2cc-77f2-49dc-8dfc-f8557cc51c92",
   "metadata": {},
   "outputs": [
    {
     "data": {
      "text/plain": [
       "device(type='mps')"
      ]
     },
     "execution_count": 2,
     "metadata": {},
     "output_type": "execute_result"
    }
   ],
   "source": [
    "device = torch.device('cuda:0' if torch.cuda.is_available() else 'mps' if torch.backends.mps.is_available()  else 'cpu')\n",
    "device"
   ]
  },
  {
   "cell_type": "markdown",
   "id": "839fbf93-7a52-47cb-92e6-047c271be1c9",
   "metadata": {},
   "source": [
    "# Import Dataset\n",
    "Examine the data a little"
   ]
  },
  {
   "cell_type": "code",
   "execution_count": 3,
   "id": "f59841c5-b4b4-457a-be9e-e701f47e08e4",
   "metadata": {},
   "outputs": [
    {
     "data": {
      "text/plain": [
       "((251, 7),\n",
       "          date       open       high        low      close  adj_close  \\\n",
       " 0  2023-06-23  42.464001  42.808998  42.014999  42.209000  42.196365   \n",
       " 1  2023-06-26  42.460999  42.764000  40.099998  40.632000  40.619839   \n",
       " 2  2023-06-27  40.799000  41.939999  40.448002  41.875999  41.863468   \n",
       " 3  2023-06-28  40.660000  41.845001  40.518002  41.117001  41.104694   \n",
       " 4  2023-06-29  41.557999  41.599998  40.599998  40.821999  40.809780   \n",
       " \n",
       "       volume  \n",
       " 0  358140000  \n",
       " 1  594322000  \n",
       " 2  462175000  \n",
       " 3  582639000  \n",
       " 4  380514000  )"
      ]
     },
     "execution_count": 3,
     "metadata": {},
     "output_type": "execute_result"
    }
   ],
   "source": [
    "#stock_data = pd.read_csv(\"./NVDA.csv\", index_col=\"Date\")\n",
    "maindf = pd.read_csv(\"./NVDA.csv\")\n",
    "maindf = maindf.rename(columns={'Date': 'date','Open':'open','High':'high','Low':'low','Close':'close',\n",
    "                                'Adj Close':'adj_close','Volume':'volume'})\n",
    "maindf.shape, maindf.head()"
   ]
  },
  {
   "cell_type": "markdown",
   "id": "48900b0b-1778-40b3-af5e-53acb1b2bb34",
   "metadata": {},
   "source": [
    "Check for any null or empty values in the data"
   ]
  },
  {
   "cell_type": "code",
   "execution_count": 4,
   "id": "21ed12a9-930b-4efb-be23-f0768c5b4c18",
   "metadata": {},
   "outputs": [
    {
     "name": "stdout",
     "output_type": "stream",
     "text": [
      "Null values: 0\n",
      "NA values: False\n"
     ]
    }
   ],
   "source": [
    "print(\"Null values:\", maindf.isnull().values.sum())\n",
    "print(\"NA values:\", maindf.isna().values.any())"
   ]
  },
  {
   "cell_type": "markdown",
   "id": "f65bcbf3-2aea-4f91-803d-a98b8498aa78",
   "metadata": {},
   "source": [
    "# Preprocess Data"
   ]
  },
  {
   "cell_type": "code",
   "execution_count": 5,
   "id": "bf96b874-f452-4eab-b28a-dafd88be8aa0",
   "metadata": {},
   "outputs": [
    {
     "name": "stdout",
     "output_type": "stream",
     "text": [
      "<bound method NDFrame.head of 0      2023-06-23\n",
      "1      2023-06-26\n",
      "2      2023-06-27\n",
      "3      2023-06-28\n",
      "4      2023-06-29\n",
      "          ...    \n",
      "246    2024-06-14\n",
      "247    2024-06-17\n",
      "248    2024-06-18\n",
      "249    2024-06-20\n",
      "250    2024-06-21\n",
      "Name: date, Length: 251, dtype: object>\n"
     ]
    },
    {
     "data": {
      "text/plain": [
       "0   2023-06-23\n",
       "1   2023-06-26\n",
       "2   2023-06-27\n",
       "3   2023-06-28\n",
       "4   2023-06-29\n",
       "Name: date, dtype: datetime64[ns]"
      ]
     },
     "execution_count": 5,
     "metadata": {},
     "output_type": "execute_result"
    }
   ],
   "source": [
    "# convert date field from string to Date format \n",
    "print(maindf['date'].head)\n",
    "maindf['date'] = pd.to_datetime(maindf.date)\n",
    "maindf['date'].head()"
   ]
  },
  {
   "cell_type": "markdown",
   "id": "c1ff85c0-a2ce-4b66-8afd-656c441fc85a",
   "metadata": {},
   "source": [
    "# Data Exploration"
   ]
  },
  {
   "cell_type": "code",
   "execution_count": 8,
   "id": "53c20c30-311a-4c54-8b1e-2ecc8ca85a25",
   "metadata": {},
   "outputs": [
    {
     "name": "stdout",
     "output_type": "stream",
     "text": [
      "Starting date:  2023-06-23 00:00:00\n",
      "Ending date:  2024-06-21 00:00:00\n",
      "Duration:  364 days 00:00:00\n"
     ]
    },
    {
     "name": "stderr",
     "output_type": "stream",
     "text": [
      "/var/folders/8q/h1fp60n52yqc7cccx0rtg7h40000gn/T/ipykernel_47500/881471916.py:1: FutureWarning: Series.__getitem__ treating keys as positions is deprecated. In a future version, integer keys will always be treated as labels (consistent with DataFrame behavior). To access a value by position, use `ser.iloc[pos]`\n",
      "  print(\"Starting date: \",maindf.iloc[0][0])\n",
      "/var/folders/8q/h1fp60n52yqc7cccx0rtg7h40000gn/T/ipykernel_47500/881471916.py:2: FutureWarning: Series.__getitem__ treating keys as positions is deprecated. In a future version, integer keys will always be treated as labels (consistent with DataFrame behavior). To access a value by position, use `ser.iloc[pos]`\n",
      "  print(\"Ending date: \", maindf.iloc[-1][0])\n",
      "/var/folders/8q/h1fp60n52yqc7cccx0rtg7h40000gn/T/ipykernel_47500/881471916.py:3: FutureWarning: Series.__getitem__ treating keys as positions is deprecated. In a future version, integer keys will always be treated as labels (consistent with DataFrame behavior). To access a value by position, use `ser.iloc[pos]`\n",
      "  print(\"Duration: \", maindf.iloc[-1][0]-maindf.iloc[0][0])\n"
     ]
    }
   ],
   "source": [
    "print(\"Starting date: \",maindf.iloc[0][0])\n",
    "print(\"Ending date: \", maindf.iloc[-1][0])\n",
    "print(\"Duration: \", maindf.iloc[-1][0]-maindf.iloc[0][0])"
   ]
  },
  {
   "cell_type": "code",
   "execution_count": 9,
   "id": "ea0f0fff-2612-4b4f-bd4f-8adc176d45ab",
   "metadata": {},
   "outputs": [
    {
     "data": {
      "image/png": "[encoded data removed]",
      "text/plain": [
       "<Figure size 1200x500 with 1 Axes>"
      ]
     },
     "metadata": {},
     "output_type": "display_data"
    }
   ],
   "source": [
    "plt.figure(figsize=(12,5))\n",
    "plt.gca().xaxis.set_major_locator(mdates.DayLocator(interval=30))\n",
    "plt.gcf().autofmt_xdate()\n",
    "plt.plot(maindf['date'], maindf['close'], label=\"Close\")\n",
    "plt.plot(maindf['date'], maindf['open'], label=\"Open\")\n",
    "plt.xlabel(\"Time Scale\")\n",
    "plt.ylabel(\"USD\")\n",
    "plt.legend()\n",
    "plt.show()"
   ]
  },
  {
   "cell_type": "markdown",
   "id": "3b9a8c6a-fb03-4c4d-8aaf-4506fb5d767d",
   "metadata": {},
   "source": [
    "# Preparing Closing Price - target data"
   ]
  },
  {
   "cell_type": "code",
   "execution_count": 10,
   "id": "56b0864f-95a8-4e3c-906a-44974bef22a8",
   "metadata": {},
   "outputs": [
    {
     "name": "stdout",
     "output_type": "stream",
     "text": [
      "Shape of close dataframe: (251, 2)\n"
     ]
    },
    {
     "data": {
      "text/html": [
       "<div>\n",
       "<style scoped>\n",
       "    .dataframe tbody tr th:only-of-type {\n",
       "        vertical-align: middle;\n",
       "    }\n",
       "\n",
       "    .dataframe tbody tr th {\n",
       "        vertical-align: top;\n",
       "    }\n",
       "\n",
       "    .dataframe thead th {\n",
       "        text-align: right;\n",
       "    }\n",
       "</style>\n",
       "<table border=\"1\" class=\"dataframe\">\n",
       "  <thead>\n",
       "    <tr style=\"text-align: right;\">\n",
       "      <th></th>\n",
       "      <th>date</th>\n",
       "      <th>close</th>\n",
       "    </tr>\n",
       "  </thead>\n",
       "  <tbody>\n",
       "    <tr>\n",
       "      <th>0</th>\n",
       "      <td>2023-06-23</td>\n",
       "      <td>42.209000</td>\n",
       "    </tr>\n",
       "    <tr>\n",
       "      <th>1</th>\n",
       "      <td>2023-06-26</td>\n",
       "      <td>40.632000</td>\n",
       "    </tr>\n",
       "    <tr>\n",
       "      <th>2</th>\n",
       "      <td>2023-06-27</td>\n",
       "      <td>41.875999</td>\n",
       "    </tr>\n",
       "    <tr>\n",
       "      <th>3</th>\n",
       "      <td>2023-06-28</td>\n",
       "      <td>41.117001</td>\n",
       "    </tr>\n",
       "    <tr>\n",
       "      <th>4</th>\n",
       "      <td>2023-06-29</td>\n",
       "      <td>40.821999</td>\n",
       "    </tr>\n",
       "  </tbody>\n",
       "</table>\n",
       "</div>"
      ],
      "text/plain": [
       "        date      close\n",
       "0 2023-06-23  42.209000\n",
       "1 2023-06-26  40.632000\n",
       "2 2023-06-27  41.875999\n",
       "3 2023-06-28  41.117001\n",
       "4 2023-06-29  40.821999"
      ]
     },
     "execution_count": 10,
     "metadata": {},
     "output_type": "execute_result"
    }
   ],
   "source": [
    "closedf = maindf[['date','close']]\n",
    "print(\"Shape of close dataframe:\", closedf.shape)\n",
    "closedf.head()"
   ]
  },
  {
   "cell_type": "code",
   "execution_count": 11,
   "id": "db36d1b5-caf8-4a7e-b22f-67dd9aba9eba",
   "metadata": {},
   "outputs": [],
   "source": [
    "from sklearn.metrics import mean_squared_error, mean_absolute_error, explained_variance_score, r2_score \n",
    "from sklearn.metrics import mean_poisson_deviance, mean_gamma_deviance, accuracy_score\n",
    "from sklearn.preprocessing import MinMaxScaler\n",
    "import numpy as np"
   ]
  },
  {
   "cell_type": "code",
   "execution_count": 12,
   "id": "e8f0f1ec-ebe5-484e-b167-f5c188e90600",
   "metadata": {},
   "outputs": [
    {
     "data": {
      "text/html": [
       "<div>\n",
       "<style scoped>\n",
       "    .dataframe tbody tr th:only-of-type {\n",
       "        vertical-align: middle;\n",
       "    }\n",
       "\n",
       "    .dataframe tbody tr th {\n",
       "        vertical-align: top;\n",
       "    }\n",
       "\n",
       "    .dataframe thead th {\n",
       "        text-align: right;\n",
       "    }\n",
       "</style>\n",
       "<table border=\"1\" class=\"dataframe\">\n",
       "  <thead>\n",
       "    <tr style=\"text-align: right;\">\n",
       "      <th></th>\n",
       "      <th>close</th>\n",
       "    </tr>\n",
       "  </thead>\n",
       "  <tbody>\n",
       "    <tr>\n",
       "      <th>0</th>\n",
       "      <td>42.209000</td>\n",
       "    </tr>\n",
       "    <tr>\n",
       "      <th>1</th>\n",
       "      <td>40.632000</td>\n",
       "    </tr>\n",
       "    <tr>\n",
       "      <th>2</th>\n",
       "      <td>41.875999</td>\n",
       "    </tr>\n",
       "    <tr>\n",
       "      <th>3</th>\n",
       "      <td>41.117001</td>\n",
       "    </tr>\n",
       "    <tr>\n",
       "      <th>4</th>\n",
       "      <td>40.821999</td>\n",
       "    </tr>\n",
       "  </tbody>\n",
       "</table>\n",
       "</div>"
      ],
      "text/plain": [
       "       close\n",
       "0  42.209000\n",
       "1  40.632000\n",
       "2  41.875999\n",
       "3  41.117001\n",
       "4  40.821999"
      ]
     },
     "execution_count": 12,
     "metadata": {},
     "output_type": "execute_result"
    }
   ],
   "source": [
    "del closedf['date']\n",
    "closedf.head()"
   ]
  },
  {
   "cell_type": "code",
   "execution_count": 13,
   "id": "479b002d-b4d2-44e9-934b-68579e146e3e",
   "metadata": {},
   "outputs": [
    {
     "name": "stdout",
     "output_type": "stream",
     "text": [
      "(251, 1)\n"
     ]
    },
    {
     "data": {
      "text/plain": [
       "(array([[0.0197682 ],\n",
       "        [0.00321246],\n",
       "        [0.01627227],\n",
       "        [0.00830412],\n",
       "        [0.00520712]]),\n",
       " 0.0,\n",
       " 1.0)"
      ]
     },
     "execution_count": 13,
     "metadata": {},
     "output_type": "execute_result"
    }
   ],
   "source": [
    "scaler=MinMaxScaler(feature_range=(0,1))\n",
    "closedf=scaler.fit_transform(np.array(closedf).reshape(-1,1))\n",
    "print(closedf.shape)\n",
    "closedf[:5], closedf.min(), closedf.max()"
   ]
  },
  {
   "cell_type": "markdown",
   "id": "942f3b60-02ee-4c02-9c76-dfec3728c07c",
   "metadata": {},
   "source": [
    "#Prepare train and test data"
   ]
  },
  {
   "cell_type": "code",
   "execution_count": 14,
   "id": "c0ffc67b-48da-4dc4-b375-6a6415daac63",
   "metadata": {},
   "outputs": [
    {
     "name": "stdout",
     "output_type": "stream",
     "text": [
      "train_data:  (150, 1)\n",
      "test_data:  (101, 1)\n"
     ]
    }
   ],
   "source": [
    "training_size=int(len(closedf)*0.60)\n",
    "test_size=len(closedf)-training_size\n",
    "train_data,test_data=closedf[0:training_size,:],closedf[training_size:len(closedf),:1]\n",
    "print(\"train_data: \", train_data.shape)\n",
    "print(\"test_data: \", test_data.shape)"
   ]
  },
  {
   "cell_type": "code",
   "execution_count": 15,
   "id": "118e28ce-3494-428c-9768-937d60a39a5e",
   "metadata": {},
   "outputs": [],
   "source": [
    "# convert an array of values into a dataset matrix\n",
    "def create_dataset(dataset, time_step=1):\n",
    "    dataX, dataY = [], []\n",
    "    for i in range(len(dataset)-time_step-1):\n",
    "        a = dataset[i:(i+time_step), 0]   ###i=0, 0,1,2,3-----99   100 \n",
    "        dataX.append(a)\n",
    "        dataY.append(dataset[i + time_step, 0])\n",
    "    return np.array(dataX), np.array(dataY)"
   ]
  },
  {
   "cell_type": "code",
   "execution_count": 31,
   "id": "4c42ef74-eeb2-42e4-896e-2f997a0bbe3e",
   "metadata": {},
   "outputs": [
    {
     "name": "stdout",
     "output_type": "stream",
     "text": [
      "X_train:  (134, 15)\n",
      "y_train:  (134,)\n",
      "X_test:  (85, 15)\n",
      "y_test (85,)\n"
     ]
    }
   ],
   "source": [
    "time_step = 15\n",
    "X_train, y_train = create_dataset(train_data, time_step)\n",
    "X_test, y_test = create_dataset(test_data, time_step)\n",
    "\n",
    "print(\"X_train: \", X_train.shape)\n",
    "print(\"y_train: \", y_train.shape)\n",
    "print(\"X_test: \", X_test.shape)\n",
    "print(\"y_test\", y_test.shape)"
   ]
  },
  {
   "cell_type": "code",
   "execution_count": 32,
   "id": "684ce2a4-3280-406a-a043-78bdf31ff308",
   "metadata": {},
   "outputs": [
    {
     "name": "stdout",
     "output_type": "stream",
     "text": [
      "X_train:  (134, 15, 1)\n",
      "X_test:  (85, 15, 1)\n"
     ]
    }
   ],
   "source": [
    "# reshape input to be [samples, time steps, features] which is required for LSTM\n",
    "X_train =X_train.reshape(X_train.shape[0],X_train.shape[1] , 1)\n",
    "X_test = X_test.reshape(X_test.shape[0],X_test.shape[1] , 1)\n",
    "\n",
    "print(\"X_train: \", X_train.shape)\n",
    "print(\"X_test: \", X_test.shape)"
   ]
  },
  {
   "cell_type": "markdown",
   "id": "d045febe-258e-48b7-8a63-79457c6bd187",
   "metadata": {},
   "source": [
    "Convert the data to tensors"
   ]
  },
  {
   "cell_type": "code",
   "execution_count": 33,
   "id": "7f6b7476-190f-4f7e-88f9-616e263085b3",
   "metadata": {},
   "outputs": [],
   "source": [
    "X_train = torch.from_numpy(X_train).type(torch.Tensor)\n",
    "X_test = torch.from_numpy(X_test).type(torch.Tensor)\n",
    "y_train = torch.from_numpy(y_train).type(torch.Tensor)\n",
    "y_test = torch.from_numpy(y_test).type(torch.Tensor)"
   ]
  },
  {
   "cell_type": "code",
   "execution_count": 34,
   "id": "5b3c9cd8-847a-424b-850b-311406d08638",
   "metadata": {},
   "outputs": [
    {
     "name": "stdout",
     "output_type": "stream",
     "text": [
      "x_train.shape =  torch.Size([134, 15, 1])\n",
      "y_train.shape =  torch.Size([134])\n",
      "x_test.shape =  torch.Size([85, 15, 1])\n",
      "y_test.shape =  torch.Size([85])\n"
     ]
    }
   ],
   "source": [
    "print('x_train.shape = ',X_train.shape)\n",
    "print('y_train.shape = ',y_train.shape)\n",
    "print('x_test.shape = ',X_test.shape)\n",
    "print('y_test.shape = ',y_test.shape)"
   ]
  },
  {
   "cell_type": "code",
   "execution_count": 35,
   "id": "cdcbabc0-fb8b-43f5-b172-ec0072d599c9",
   "metadata": {},
   "outputs": [
    {
     "data": {
      "text/plain": [
       "(torch.Size([134, 1]), torch.Size([85, 1]))"
      ]
     },
     "execution_count": 35,
     "metadata": {},
     "output_type": "execute_result"
    }
   ],
   "source": [
    "y_train.unsqueeze_(dim=1)\n",
    "y_test.unsqueeze_(dim=1)\n",
    "y_train.shape, y_test.shape"
   ]
  },
  {
   "cell_type": "markdown",
   "id": "9fdabb1e-8e83-4f68-b52c-230b48960927",
   "metadata": {},
   "source": [
    "# Build the Model"
   ]
  },
  {
   "cell_type": "code",
   "execution_count": 36,
   "id": "bce25693-c045-47b9-8b5c-eb19f2bd0926",
   "metadata": {},
   "outputs": [],
   "source": [
    "import torch.nn as nn\n",
    "import torch.nn.functional as F\n",
    "import torch.optim as optim"
   ]
  },
  {
   "cell_type": "code",
   "execution_count": 37,
   "id": "d7ccddbe-76a8-4cea-b34b-506d65090c8c",
   "metadata": {},
   "outputs": [],
   "source": [
    "\n",
    "input_dim = 1\n",
    "hidden_dim = 32\n",
    "num_layers = 2 \n",
    "output_dim = 1\n",
    "\n",
    "class LSTM(nn.Module):\n",
    "    def __init__(self, input_dim, hidden_dim, num_layers, output_dim):\n",
    "        super(LSTM, self).__init__()\n",
    "        self.hidden_dim = hidden_dim\n",
    "        self.num_layers = num_layers\n",
    "        \n",
    "        self.lstm = nn.LSTM(input_dim, hidden_dim, num_layers, batch_first=True)\n",
    "        self.fc = nn.Linear(hidden_dim, output_dim)\n",
    "\n",
    "    def forward(self, x):\n",
    "        h0 = torch.zeros(self.num_layers, x.size(0), self.hidden_dim).requires_grad_()\n",
    "        c0 = torch.zeros(self.num_layers, x.size(0), self.hidden_dim).requires_grad_()\n",
    "        out, (hn, cn) = self.lstm(x, (h0.detach(), c0.detach()))\n",
    "        out = self.fc(out[:, -1, :]) \n",
    "        return out"
   ]
  },
  {
   "cell_type": "code",
   "execution_count": 38,
   "id": "c294d0ba-f697-4cf8-a44d-3b9dcf9a56f8",
   "metadata": {},
   "outputs": [
    {
     "name": "stdout",
     "output_type": "stream",
     "text": [
      "LSTM(\n",
      "  (lstm): LSTM(1, 32, num_layers=2, batch_first=True)\n",
      "  (fc): Linear(in_features=32, out_features=1, bias=True)\n",
      ")\n",
      "10\n",
      "torch.Size([128, 1])\n",
      "torch.Size([128, 32])\n",
      "torch.Size([128])\n",
      "torch.Size([128])\n",
      "torch.Size([128, 32])\n",
      "torch.Size([128, 32])\n",
      "torch.Size([128])\n",
      "torch.Size([128])\n",
      "torch.Size([1, 32])\n",
      "torch.Size([1])\n"
     ]
    }
   ],
   "source": [
    "model = LSTM(input_dim=input_dim, hidden_dim=hidden_dim, output_dim=output_dim, num_layers=num_layers)\n",
    "\n",
    "loss_fn = torch.nn.MSELoss()\n",
    "\n",
    "optimiser = torch.optim.Adam(model.parameters(), lr=0.01)\n",
    "print(model)\n",
    "print(len(list(model.parameters())))\n",
    "for i in range(len(list(model.parameters()))):\n",
    "    print(list(model.parameters())[i].size())"
   ]
  },
  {
   "cell_type": "code",
   "execution_count": 39,
   "id": "c4012bcd-a3e7-4546-8687-359abd639f18",
   "metadata": {},
   "outputs": [],
   "source": [
    "criterion = torch.nn.MSELoss(reduction='mean')\n",
    "optimiser = torch.optim.Adam(model.parameters(), lr=0.01)"
   ]
  },
  {
   "cell_type": "code",
   "execution_count": 40,
   "id": "0eecb6d7-73ac-46d1-bea1-06fc11009dc4",
   "metadata": {},
   "outputs": [
    {
     "name": "stdout",
     "output_type": "stream",
     "text": [
      "Epoch  0 MSE:  0.0027794423513114452\n",
      "Epoch  1 MSE:  0.013368586078286171\n",
      "Epoch  2 MSE:  0.003160631749778986\n",
      "Epoch  3 MSE:  0.002363386331126094\n",
      "Epoch  4 MSE:  0.004074786324054003\n",
      "Epoch  5 MSE:  0.0037838201969861984\n",
      "Epoch  6 MSE:  0.0026895375922322273\n",
      "Epoch  7 MSE:  0.002010471187531948\n",
      "Epoch  8 MSE:  0.0019857159350067377\n",
      "Epoch  9 MSE:  0.00232800655066967\n",
      "Training time: 0.14625310897827148\n"
     ]
    }
   ],
   "source": [
    "import time\n",
    "\n",
    "num_epochs  = 10\n",
    "\n",
    "hist = np.zeros(num_epochs)\n",
    "start_time = time.time()\n",
    "lstm = []\n",
    "\n",
    "for t in range(num_epochs):\n",
    "    y_train_pred = model(X_train)\n",
    "\n",
    "    loss = criterion(y_train_pred, y_train)\n",
    "    print(\"Epoch \", t, \"MSE: \", loss.item())\n",
    "    hist[t] = loss.item()\n",
    "\n",
    "    optimiser.zero_grad()\n",
    "    loss.backward()\n",
    "    optimiser.step()\n",
    "    \n",
    "training_time = time.time()-start_time\n",
    "print(\"Training time: {}\".format(training_time))"
   ]
  },
  {
   "cell_type": "code",
   "execution_count": null,
   "id": "87dd8b90-8376-4b86-9d5b-d58aeefdfad9",
   "metadata": {},
   "outputs": [],
   "source": []
  }
 ],
 "metadata": {
  "kernelspec": {
   "display_name": "Python 3 (ipykernel)",
   "language": "python",
   "name": "python3"
  },
  "language_info": {
   "codemirror_mode": {
    "name": "ipython",
    "version": 3
   },
   "file_extension": ".py",
   "mimetype": "text/x-python",
   "name": "python",
   "nbconvert_exporter": "python",
   "pygments_lexer": "ipython3",
   "version": "3.11.4"
  }
 },
 "nbformat": 4,
 "nbformat_minor": 5
}

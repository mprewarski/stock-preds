{
 "cells": [
  {
   "cell_type": "code",
   "execution_count": null,
   "id": "a90a743b-1927-4dc8-a8a3-bd982a006e4c",
   "metadata": {},
   "outputs": [],
   "source": [
    "import pandas as pd\n",
    "import torch"
   ]
  },
  {
   "cell_type": "code",
   "execution_count": null,
   "id": "ede4d2cc-77f2-49dc-8dfc-f8557cc51c92",
   "metadata": {},
   "outputs": [],
   "source": [
    "device = torch.device('cuda:0' if torch.cuda.is_available() else 'mps' if torch.backends.mps.is_available()  else 'cpu')\n",
    "device"
   ]
  },
  {
   "cell_type": "code",
   "execution_count": null,
   "id": "f59841c5-b4b4-457a-be9e-e701f47e08e4",
   "metadata": {},
   "outputs": [],
   "source": [
    "#stock_data = pd.read_csv(\"./NVDA.csv\", index_col=\"Date\")\n",
    "stock_data = pd.read_csv(\"./NVDA.csv\")\n",
    "stock_data.head()"
   ]
  },
  {
   "cell_type": "code",
   "execution_count": null,
   "id": "714876ee-9dd9-4c2c-b2c0-b38b0da307ab",
   "metadata": {},
   "outputs": [],
   "source": [
    "stock_data['Date']"
   ]
  },
  {
   "cell_type": "code",
   "execution_count": null,
   "id": "c67d5d78-5135-43eb-b21d-5785a0138694",
   "metadata": {},
   "outputs": [],
   "source": [
    "import matplotlib.dates as mdates\n",
    "import matplotlib.pyplot as plt\n",
    "import datetime as dt"
   ]
  },
  {
   "cell_type": "code",
   "execution_count": null,
   "id": "ea0f0fff-2612-4b4f-bd4f-8adc176d45ab",
   "metadata": {},
   "outputs": [],
   "source": [
    "plt.figure(figsize=(12,5))\n",
    "plt.gca().xaxis.set_major_locator(mdates.DayLocator(interval=30))\n",
    "plt.gcf().autofmt_xdate()\n",
    "plt.plot(stock_data['Date'], stock_data['Close'], label=\"Close\")\n",
    "plt.xlabel(\"Time Scale\")\n",
    "plt.ylabel(\"USD\")\n",
    "plt.legend()\n",
    "plt.show()"
   ]
  },
  {
   "cell_type": "code",
   "execution_count": null,
   "id": "bce25693-c045-47b9-8b5c-eb19f2bd0926",
   "metadata": {},
   "outputs": [],
   "source": [
    "import torch.nn as nn\n",
    "import torch.nn.functional as F\n",
    "import torch.optim as optim"
   ]
  },
  {
   "cell_type": "markdown",
   "id": "f65bcbf3-2aea-4f91-803d-a98b8498aa78",
   "metadata": {},
   "source": [
    "# Preprocess Data"
   ]
  },
  {
   "cell_type": "code",
   "execution_count": null,
   "id": "2355b7f7-1213-4d39-91c9-b9c21a4f5e8f",
   "metadata": {},
   "outputs": [],
   "source": [
    "target_y = stock_data[\"Close\"]"
   ]
  },
  {
   "cell_type": "code",
   "execution_count": null,
   "id": "2306a578-5d45-4647-a4a7-9d82500798fb",
   "metadata": {},
   "outputs": [],
   "source": [
    "target_y.describe()"
   ]
  },
  {
   "cell_type": "code",
   "execution_count": null,
   "id": "6bb5668b-41cb-4954-b49c-a426f912a7f3",
   "metadata": {},
   "outputs": [],
   "source": [
    "# grab first 3 columns and all rows\n",
    "x_feat = stock_data.iloc[:, 1:4]\n",
    "x_feat.head()"
   ]
  },
  {
   "cell_type": "code",
   "execution_count": null,
   "id": "caec04f1-bca8-4837-b932-a4f3af5ab717",
   "metadata": {},
   "outputs": [],
   "source": [
    "from sklearn.preprocessing import StandardScaler"
   ]
  },
  {
   "cell_type": "code",
   "execution_count": null,
   "id": "f67aa601-83e0-4ad2-b304-9739c5b83b63",
   "metadata": {},
   "outputs": [],
   "source": [
    "sc = StandardScaler()"
   ]
  },
  {
   "cell_type": "code",
   "execution_count": null,
   "id": "1eedd958-052d-4e9a-b95e-006d965e19f7",
   "metadata": {},
   "outputs": [],
   "source": [
    "x_ft = sc.fit_transform(x_feat.values)\n",
    "x_ft"
   ]
  },
  {
   "cell_type": "code",
   "execution_count": null,
   "id": "d551ed70-392d-43ef-b71d-9a9e6702c58b",
   "metadata": {},
   "outputs": [],
   "source": []
  }
 ],
 "metadata": {
  "kernelspec": {
   "display_name": "Python 3 (ipykernel)",
   "language": "python",
   "name": "python3"
  },
  "language_info": {
   "codemirror_mode": {
    "name": "ipython",
    "version": 3
   },
   "file_extension": ".py",
   "mimetype": "text/x-python",
   "name": "python",
   "nbconvert_exporter": "python",
   "pygments_lexer": "ipython3",
   "version": "3.11.4"
  }
 },
 "nbformat": 4,
 "nbformat_minor": 5
}
